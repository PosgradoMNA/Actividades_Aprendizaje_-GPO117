{
  "nbformat": 4,
  "nbformat_minor": 0,
  "metadata": {
    "colab": {
      "provenance": [],
      "collapsed_sections": []
    },
    "kernelspec": {
      "name": "python3",
      "display_name": "Python 3"
    },
    "language_info": {
      "name": "python"
    }
  },
  "cells": [
    {
      "cell_type": "markdown",
      "source": [
        "# **Proyecto final - Avance 1**"
      ],
      "metadata": {
        "id": "K2ngrV2eq8e0"
      }
    },
    {
      "cell_type": "markdown",
      "source": [
        "**Equipo 117**"
      ],
      "metadata": {
        "id": "_nY0jU_3rKXa"
      }
    },
    {
      "cell_type": "markdown",
      "source": [
        "José Daniel Camacho Torres - A01793555\n",
        "\n",
        "Yocks Sandoval Jaik Randy -\tA01793725"
      ],
      "metadata": {
        "id": "4U6-ehZ3rPxv"
      }
    },
    {
      "cell_type": "markdown",
      "source": [
        "**Nombre del conjunto de datos:** [Cuestionario del Hogar](https://ensanut.insp.mx/encuestas/ensanutcontinua2021/descargas.php)\n",
        "\n",
        "**Organización que lo generó:** [Secretaría de Salud](https://www.gob.mx/salud)\n",
        "\n",
        "**Enlace de descarga de la base de datos:** [https://ensanut.insp.mx/encuestas/ensanutcontinua2021/descargas.php](https://ensanut.insp.mx/encuestas/ensanutcontinua2021/descargas.php)\n",
        "\n",
        "\n",
        "\n",
        "---\n",
        "\n",
        "\n",
        "\n",
        "**Descripción del conjunto de datos:**\n",
        "\n",
        "Aporta información sobre la experiencia familiar de la pandemia, los efectos en el ingreso economico, calidad de vivienda, la seguridad alimentaria, la calidad de la dieta, el acceso a servicios de salud, así como la medición de anticuerpos de SARS-CoV-2 para estimar el porcentaje de la población que ha estado expuesta al coronavirus y/o que ha sido vacunada; además, retoma los elementos de monitoreo del estado de salud y nutrición de la población mexicana.\n",
        "\n",
        "\n",
        "\n",
        "---\n",
        "\n",
        "\n",
        "\n",
        "**Preguntas de investigación:**\n",
        "\n",
        "¿Cuáles fueron los estados de México más afectados por la pandemia?\n",
        "\n",
        "¿Cuál es el nivel socioeconómico de las personas entrevistadas?\n",
        "\n",
        "¿Qué percepción tiene la población acerca de la pandemia?\n",
        "\n",
        "¿Cuál es la variación en la alimentación de los mexicanos luego del Covid 19?\n",
        "\n",
        "¿Como se relacionan e interactúan los mexicanos luego de la Pandemia por el Covid 19?\n",
        "\n",
        "¿Cuáles son las dificultades mas notables que enfrenta la población?\n",
        "\n",
        "¿De los entrevistados, cuáles síntomas/secuelas se manifiestan postpandemia?\n",
        "\n",
        "¿Qué medidas de higiene y seguridad toman las familias para enfrentar la pandemia?\n",
        "\n",
        "\n",
        "---\n",
        "\n",
        "\n",
        "**Actor a quien podría servir la base de datos:**\n",
        "\n",
        "Entidades de gobierno de México y empresas que quieran realizar un analisis de mercado."
      ],
      "metadata": {
        "id": "yxKpOBXZrajC"
      }
    }
  ]
}